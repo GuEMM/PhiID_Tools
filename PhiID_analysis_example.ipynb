{
 "cells": [
  {
   "cell_type": "code",
   "execution_count": 36,
   "id": "85dbc880-2f65-4461-baf9-d0366832dbca",
   "metadata": {},
   "outputs": [],
   "source": [
    "include(\"IIT_PhiR_tools.jl\");"
   ]
  },
  {
   "cell_type": "markdown",
   "id": "8a9f3789-82f8-4602-9100-72c16d5007be",
   "metadata": {},
   "source": [
    "# **PHI-ID ANALYSIS EXAMPLE**\n",
    "\n",
    "Integrated information decomposition (Phi-ID) analysis of spiking trains from 12 excitatory neurons and 9 inhibitory neurons generated via simulation of an EEG neuronal network model (Menesse y Torres, 2024).\n",
    "\n",
    "**Reference**:\n",
    "\n",
    "Menesse G, Torres J. 2023. Information dynamics efficiently discriminates high γ-rhythms in EEG brain waves. DOI: https://arxiv.org/abs/2311.13977\n",
    "\n",
    "**Julia version**: 1.8.3\n",
    "\n",
    "**Packadge requiered**:  Random,Distributions,Combinatorics,CausalityTools, DelimitedFiles\n",
    "\n",
    "**Repository link**: https://github.com/GuEMM/PhiID_Tools.git"
   ]
  },
  {
   "cell_type": "code",
   "execution_count": 37,
   "id": "5afb9fd2-423e-4fe5-85c6-1e76d8483ab1",
   "metadata": {},
   "outputs": [
    {
     "name": "stdout",
     "output_type": "stream",
     "text": [
      "Files available for analysis:\n",
      "1-Data_States_LIF_EEG_mu_0.918_taur_0.0_Vd_10_States.txt\n",
      "2-Data_States_LIF_EEG_mu_1.531_taur_6.122_Vd_10_States.txt\n",
      "3-Data_States_LIF_EEG_mu_11.327_taur_30.612_Vd_10_States.txt\n",
      "4-Data_States_LIF_EEG_mu_15.0_taur_183.673_Vd_10_States.txt\n",
      "5-Data_States_LIF_EEG_mu_2.755_taur_232.653_Vd_10_States.txt\n",
      "6-Data_States_LIF_EEG_mu_4.592_taur_195.918_Vd_10_States.txt\n",
      "\n",
      "\n",
      "\n",
      "Choose a file by introducing it's number (integer) \n",
      "\n",
      "\n"
     ]
    },
    {
     "name": "stdin",
     "output_type": "stream",
     "text": [
      "stdin>  2\n"
     ]
    },
    {
     "data": {
      "text/plain": [
       "\"Data_States_LIF_EEG_mu_1.531_taur_6.122_Vd_10_States.txt\""
      ]
     },
     "execution_count": 37,
     "metadata": {},
     "output_type": "execute_result"
    }
   ],
   "source": [
    "#Directory where data is stored\n",
    "ddirload = \"Data/\"\n",
    "\n",
    "allfiles = readdir(ddirload)\n",
    "\n",
    "file = [i for i in allfiles if occursin(\"_States.txt\", i)]\n",
    "\n",
    "println(\"Files available for analysis:\")\n",
    "\n",
    "#Show list of data files in the directory\n",
    "for i in 1:length(file)\n",
    "    println(\"$(i)-\"*file[i])\n",
    "end\n",
    "\n",
    "println(\"\\n\\n\")\n",
    "println(\"Choose a file by introducing it's number (integer) \\n\\n\")  \n",
    "  \n",
    "# Choose a file \n",
    "i = parse(Int32,readline())\n",
    "\n",
    "file = file[i]"
   ]
  },
  {
   "cell_type": "code",
   "execution_count": 45,
   "id": "9ab550d4-a0b9-4a15-919f-7839fcb034f5",
   "metadata": {},
   "outputs": [],
   "source": [
    "\n",
    "#List fof time delay that will be use in Phi-ID analysis\n",
    "Tau = [1,10,100]\n",
    "\n",
    "#Time serie size used in the analysis\n",
    "TTiE = Int32(200000)\n",
    "TTiI = Int32(200000)\n",
    "\n",
    "IITdirE = \"PhiID_atoms_12E_TSize_$(TTiE)/\"\n",
    "IITdirI = \"PhiID_atoms_9I_TSize_$(TTiI)/\"\n",
    "\n",
    "isdir(IITdirE) || mkdir(IITdirE)\n",
    "isdir(IITdirI) || mkdir(IITdirI)\n",
    "\n",
    "#Matrices for read boolean time series\n",
    "XE = zeros(Int32,TTiE,12)\n",
    "XI = zeros(Int32,TTiI,9)\n",
    "\n",
    "#Space parameter\n",
    "mu = parse(Float32,split(file,\"_\")[6])\n",
    "taur = parse(Float32,split(file,\"_\")[8]);\n"
   ]
  },
  {
   "cell_type": "code",
   "execution_count": 44,
   "id": "692015dc-a737-479e-bfcf-4f9daf9e7ad8",
   "metadata": {},
   "outputs": [],
   "source": [
    "#Columns corresponging to each variable group\n",
    "#Group of 9 inhibitory neurons are disposed in columns 0 to 9\n",
    "G1 = [1,9]\n",
    "\n",
    "#Group of 12 excitatory neurons are disposed in columns 10 to 21\n",
    "G2 = [10,21];\n"
   ]
  },
  {
   "cell_type": "code",
   "execution_count": 42,
   "id": "347a16ce-76bf-4f88-b119-d17b9c1485e1",
   "metadata": {},
   "outputs": [
    {
     "name": "stdout",
     "output_type": "stream",
     "text": [
      "Compute\n",
      "Compute\n",
      "Compute\n"
     ]
    }
   ],
   "source": [
    "#Measure PhiID using different time delays\n",
    "for ta in length(Tau):-1:1\n",
    "\n",
    "\ttau = Int32(Tau[ta])\n",
    " \n",
    "        filex = \"PhiID_atoms_tau_$(tau)_taur_$(taur)_mu_$(mu).txt\"\n",
    "\t\n",
    "\tif isfile(IITdirE*filex) == true\n",
    "\n",
    "\t\tprintln(\"Exists\")\n",
    "\t\n",
    "\telse\n",
    "\t\tprintln(\"Compute\")\n",
    "\n",
    "\t\tXE[:] = Array{Int32,2}(readdlm(ddirload*file,',',Int8))[end-TTiE+1:end,G2[1]:G2[2]]\n",
    "\t\n",
    "\t\tPHIID_parallel_Atoms!(XE,tau,IITdirE*filex)\n",
    "\n",
    "\tend\n",
    "\n",
    "\tif isfile(IITdirI*filex) == true\n",
    "\n",
    "\t\tprintln(\"Exists\")\n",
    "\n",
    "\telse\n",
    "\n",
    "\t\tXI[:] = Array{Int32,2}(readdlm(ddirload*file,',',Int8))[end-TTiI+1:end,G1[1]:G1[2]]\n",
    "\n",
    "\t\tPHIID_parallel_Atoms!(XI,tau,IITdirI*filex)        \n",
    "\t\t\n",
    "\tend\n",
    "\n",
    "end\n"
   ]
  },
  {
   "cell_type": "code",
   "execution_count": null,
   "id": "fb57e038-ed88-42ef-9ef3-44e9fc2fad8f",
   "metadata": {},
   "outputs": [],
   "source": []
  }
 ],
 "metadata": {
  "kernelspec": {
   "display_name": "Julia 1.8.3",
   "language": "julia",
   "name": "julia-1.8"
  },
  "language_info": {
   "file_extension": ".jl",
   "mimetype": "application/julia",
   "name": "julia",
   "version": "1.8.3"
  }
 },
 "nbformat": 4,
 "nbformat_minor": 5
}
